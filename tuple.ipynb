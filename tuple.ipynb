{
 "cells": [
  {
   "cell_type": "markdown",
   "metadata": {},
   "source": [
    "# Tuples -> Ordered, immutable, allows duplicate elements"
   ]
  },
  {
   "cell_type": "code",
   "execution_count": 2,
   "metadata": {},
   "outputs": [
    {
     "name": "stdout",
     "output_type": "stream",
     "text": [
      "<class 'tuple'>\n",
      "('Muyiwa', 24, 'Nigeria')\n"
     ]
    }
   ],
   "source": [
    "mytuple = (\"Muyiwa\", 24, \"Nigeria\")\n",
    "print(type(mytuple))\n",
    "print(mytuple)\n"
   ]
  },
  {
   "cell_type": "markdown",
   "metadata": {},
   "source": [
    "#  We can als use the built-in tuple method, we could aslo access tuples with it's index just like a list"
   ]
  },
  {
   "cell_type": "code",
   "execution_count": 8,
   "metadata": {},
   "outputs": [
    {
     "name": "stdout",
     "output_type": "stream",
     "text": [
      "Max 25 Boston\n"
     ]
    }
   ],
   "source": [
    "mynewtuple = tuple([\"Max\", 25, \"Boston\"])\n",
    "name = mynewtuple[0]\n",
    "age = mynewtuple[1]\n",
    "location = mynewtuple[2]\n",
    "neg = mynewtuple[-1]\n",
    "print(name, age, location)"
   ]
  },
  {
   "cell_type": "markdown",
   "metadata": {},
   "source": [
    "## We could loop through tuples as well"
   ]
  },
  {
   "cell_type": "code",
   "execution_count": 10,
   "metadata": {},
   "outputs": [
    {
     "name": "stdout",
     "output_type": "stream",
     "text": [
      "Max\n",
      "25\n",
      "Boston\n"
     ]
    }
   ],
   "source": [
    "for x in mynewtuple:\n",
    "    print(x)"
   ]
  },
  {
   "cell_type": "markdown",
   "metadata": {},
   "source": [
    "## We can confirm if an item is in item"
   ]
  },
  {
   "cell_type": "code",
   "execution_count": 11,
   "metadata": {},
   "outputs": [
    {
     "name": "stdout",
     "output_type": "stream",
     "text": [
      "yes\n"
     ]
    }
   ],
   "source": [
    "if \"Boston\" in mynewtuple:\n",
    "    print(\"yes\")\n",
    "else:\n",
    "    print(\"no\")\n"
   ]
  },
  {
   "cell_type": "code",
   "execution_count": 19,
   "metadata": {},
   "outputs": [
    {
     "name": "stdout",
     "output_type": "stream",
     "text": [
      "10\n"
     ]
    }
   ],
   "source": [
    "myAlphabets = (\"a\",\"b\", \"c\", \"d\", \"e\", \"a\", \"c\",\"d\", \"f\",\"a\")\n",
    "print(len(myAlphabets))\n"
   ]
  },
  {
   "cell_type": "code",
   "execution_count": 20,
   "metadata": {},
   "outputs": [
    {
     "name": "stdout",
     "output_type": "stream",
     "text": [
      "3\n",
      "1\n",
      "2\n",
      "2\n"
     ]
    }
   ],
   "source": [
    "print(myAlphabets.count(\"a\"))\n",
    "print(myAlphabets.count(\"b\"))\n",
    "print(myAlphabets.count(\"c\"))\n",
    "print(myAlphabets.count(\"d\"))\n"
   ]
  },
  {
   "cell_type": "code",
   "execution_count": 24,
   "metadata": {},
   "outputs": [
    {
     "name": "stdout",
     "output_type": "stream",
     "text": [
      "0\n"
     ]
    }
   ],
   "source": [
    "print(myAlphabets.index(\"a\"))"
   ]
  },
  {
   "cell_type": "markdown",
   "metadata": {},
   "source": [
    "### We can convert a tuple to a list and vice versa"
   ]
  },
  {
   "cell_type": "code",
   "execution_count": 25,
   "metadata": {},
   "outputs": [
    {
     "name": "stdout",
     "output_type": "stream",
     "text": [
      "['a', 'p', 'p', 'l', 'e']\n",
      "('a', 'p', 'p', 'l', 'e')\n"
     ]
    }
   ],
   "source": [
    "tuples = (\"a\",\"p\",\"p\", \"l\", \"e\")\n",
    "list_conv = list(tuples)\n",
    "print(list_conv)\n",
    "\n",
    "tuples2 = tuple(list_conv)\n",
    "print(tuples2)\n",
    "\n"
   ]
  },
  {
   "cell_type": "markdown",
   "metadata": {},
   "source": [
    "## Slicing with tuples"
   ]
  },
  {
   "cell_type": "code",
   "execution_count": 26,
   "metadata": {},
   "outputs": [
    {
     "name": "stdout",
     "output_type": "stream",
     "text": [
      "(3, 4, 5) (1, 2, 3, 4, 5, 6) (3, 5, 7, 9)\n"
     ]
    }
   ],
   "source": [
    "a = (1,2,3,4,5,6,7,8,9,10)\n",
    "b = a[2:5]\n",
    "c = a[:6]\n",
    "d = a[2::2]\n",
    "print(b,c,d)"
   ]
  },
  {
   "cell_type": "markdown",
   "metadata": {},
   "source": [
    "# We can unpack a tuple just like destructuring in JavaScript"
   ]
  },
  {
   "cell_type": "code",
   "execution_count": 27,
   "metadata": {},
   "outputs": [
    {
     "name": "stdout",
     "output_type": "stream",
     "text": [
      "Max\n",
      "23\n",
      "Boston\n"
     ]
    }
   ],
   "source": [
    "info = \"Max\", 23, \"Boston\"\n",
    "\n",
    "info_name,info_age, info_city = info\n",
    "print(info_name)\n",
    "print(info_age)\n",
    "print(info_city)"
   ]
  },
  {
   "cell_type": "markdown",
   "metadata": {},
   "source": [
    "## Wecould umpack as well using the *, the mid items are converted to a list\n",
    "## This is useful if we're working with a large data"
   ]
  },
  {
   "cell_type": "code",
   "execution_count": 28,
   "metadata": {},
   "outputs": [
    {
     "name": "stdout",
     "output_type": "stream",
     "text": [
      "0\n",
      "[1, 2, 3, 4, 5]\n",
      "6\n"
     ]
    }
   ],
   "source": [
    "num_tup = (0,1,2,3,4,5,6)\n",
    "i1, *i2, i3 = num_tup\n",
    "print(i1) \n",
    "print(i2) #This would be a list\n",
    "print(i3)"
   ]
  },
  {
   "cell_type": "markdown",
   "metadata": {},
   "source": [
    "## We'll be comparing a tuple and a list in the snippet code below"
   ]
  },
  {
   "cell_type": "code",
   "execution_count": 29,
   "metadata": {},
   "outputs": [
    {
     "name": "stdout",
     "output_type": "stream",
     "text": [
      "96 bytes\n",
      "80 bytes\n"
     ]
    }
   ],
   "source": [
    "import sys\n",
    "my_listnow = [0,1,2, \"hello\", True]\n",
    "my_tuplenow = (0,1,2, \"hello\", True)\n",
    "print(sys.getsizeof(my_listnow), \"bytes\")\n",
    "print(sys.getsizeof(my_tuplenow), \"bytes\")\n",
    "    "
   ]
  },
  {
   "cell_type": "markdown",
   "metadata": {},
   "source": [
    "## Another example is given below"
   ]
  },
  {
   "cell_type": "code",
   "execution_count": 31,
   "metadata": {},
   "outputs": [
    {
     "name": "stdout",
     "output_type": "stream",
     "text": [
      "0.7620287429999735\n",
      "0.051987026003189385\n"
     ]
    }
   ],
   "source": [
    "import timeit\n",
    "print(timeit.timeit(stmt=\"[0,1,2,3,4,5]\", number = 1000000))\n",
    "print(timeit.timeit(stmt=\"(0,1,2,3,4,5)\", number = 1000000))"
   ]
  },
  {
   "cell_type": "markdown",
   "metadata": {},
   "source": [
    "## Endnote -> working with Tuples can be more efficient than working with Lists"
   ]
  }
 ],
 "metadata": {
  "kernelspec": {
   "display_name": "Python 3.10.5 64-bit",
   "language": "python",
   "name": "python3"
  },
  "language_info": {
   "codemirror_mode": {
    "name": "ipython",
    "version": 3
   },
   "file_extension": ".py",
   "mimetype": "text/x-python",
   "name": "python",
   "nbconvert_exporter": "python",
   "pygments_lexer": "ipython3",
   "version": "3.10.5"
  },
  "orig_nbformat": 4,
  "vscode": {
   "interpreter": {
    "hash": "aee8b7b246df8f9039afb4144a1f6fd8d2ca17a180786b69acc140d282b71a49"
   }
  }
 },
 "nbformat": 4,
 "nbformat_minor": 2
}
