{
 "cells": [
  {
   "cell_type": "markdown",
   "metadata": {},
   "source": [
    "## Dictionaries -> Key-value pairs, unpaired , mutable"
   ]
  },
  {
   "cell_type": "code",
   "execution_count": 4,
   "metadata": {},
   "outputs": [
    {
     "name": "stdout",
     "output_type": "stream",
     "text": [
      "{'name': 'Max', 'age': 28, 'city': 'New York'}\n",
      "{'name': 'Mary', 'age': 34, 'city': 'Lagos'}\n",
      "Max Mary\n",
      "{'name': 'Max', 'age': 28, 'city': 'New York', 'email': 'max@gmail.com'}\n"
     ]
    }
   ],
   "source": [
    "mydict = {\"name\":\"Max\", \"age\":28, \"city\":\"New York\"}\n",
    "print(mydict)\n",
    "\n",
    "mydict2 = dict(name =\"Mary\", age=34, city=\"Lagos\") #This is used to create a dictionary\n",
    "print(mydict2)\n",
    "\n",
    "# To access our earlier created dictionary\n",
    "value2 =mydict2[\"name\"]\n",
    "value = mydict[\"name\"]\n",
    "print(value,value2)\n",
    "\n",
    "# To add to a dictionary\n",
    "mydict[\"email\"] = \"max@gmail.com\"\n",
    "print(mydict)"
   ]
  },
  {
   "cell_type": "markdown",
   "metadata": {},
   "source": [
    "## To remove items in a dictionary, we can use *del* keyword\n"
   ]
  },
  {
   "cell_type": "code",
   "execution_count": 5,
   "metadata": {},
   "outputs": [
    {
     "name": "stdout",
     "output_type": "stream",
     "text": [
      "{'age': 28, 'city': 'New York', 'email': 'max@gmail.com'}\n"
     ]
    }
   ],
   "source": [
    "del mydict[\"name\"]\n",
    "print(mydict)"
   ]
  },
  {
   "cell_type": "markdown",
   "metadata": {},
   "source": [
    "### we can use the *popitem()* method"
   ]
  },
  {
   "cell_type": "code",
   "execution_count": null,
   "metadata": {},
   "outputs": [],
   "source": [
    "mydict.popitem()\n",
    "print(mydict)"
   ]
  },
  {
   "cell_type": "markdown",
   "metadata": {},
   "source": [
    "## To loop through a dictionary"
   ]
  },
  {
   "cell_type": "code",
   "execution_count": 11,
   "metadata": {},
   "outputs": [
    {
     "name": "stdout",
     "output_type": "stream",
     "text": [
      "age\n",
      "city\n",
      "email\n",
      "28\n",
      "New York\n",
      "max@gmail.com\n"
     ]
    }
   ],
   "source": [
    "for key in mydict.keys():\n",
    "    print(key)\n",
    "for value in mydict.values():\n",
    "    print(value)\n",
    "\n",
    "## To have both in one loop\n",
    "for key,value in mydict.items():\n",
    "    print(key, value)\n"
   ]
  },
  {
   "cell_type": "markdown",
   "metadata": {},
   "source": [
    "### To Copy a Dictionary\n",
    " "
   ]
  },
  {
   "cell_type": "code",
   "execution_count": 12,
   "metadata": {},
   "outputs": [
    {
     "name": "stdout",
     "output_type": "stream",
     "text": [
      "{'age': 28, 'city': 'New York', 'email': 'amaks@gyahoroc.com'}\n",
      "{'age': 28, 'city': 'New York', 'email': 'max@gmail.com'}\n"
     ]
    }
   ],
   "source": [
    "mydict_cpy = mydict.copy()\n",
    "mydict_cpy[\"email\"] = \"amaks@gyahoroc.com\"\n",
    "print(mydict_cpy)\n",
    "print(mydict)\n",
    "\n",
    "# We could as well use the method commented below\n",
    "# mydict_cpy = dict(mydict)"
   ]
  },
  {
   "cell_type": "markdown",
   "metadata": {},
   "source": [
    "# We can as well update a dictionary\n"
   ]
  },
  {
   "cell_type": "code",
   "execution_count": 13,
   "metadata": {},
   "outputs": [
    {
     "name": "stdout",
     "output_type": "stream",
     "text": [
      "{'name': 'Mary', 'age': 27, 'email': 'max@xyz@mail.com', 'city': 'Boston'}\n"
     ]
    }
   ],
   "source": [
    "myudict = {\"name\":\"Max\", \"age\": 28, \"email\": \"max@xyz@mail.com\"}\n",
    "myudict2 = dict(name=\"Mary\", age =27, city =\"Boston\")\n",
    "\n",
    "myudict.update(myudict2)\n",
    "print(myudict)"
   ]
  },
  {
   "cell_type": "markdown",
   "metadata": {},
   "source": [
    "## We could use a tuple, integer as key but not list because , list can be mutated so it's not hashable, hence can't be used as key"
   ]
  }
 ],
 "metadata": {
  "kernelspec": {
   "display_name": "Python 3.10.5 64-bit",
   "language": "python",
   "name": "python3"
  },
  "language_info": {
   "codemirror_mode": {
    "name": "ipython",
    "version": 3
   },
   "file_extension": ".py",
   "mimetype": "text/x-python",
   "name": "python",
   "nbconvert_exporter": "python",
   "pygments_lexer": "ipython3",
   "version": "3.10.5"
  },
  "orig_nbformat": 4,
  "vscode": {
   "interpreter": {
    "hash": "aee8b7b246df8f9039afb4144a1f6fd8d2ca17a180786b69acc140d282b71a49"
   }
  }
 },
 "nbformat": 4,
 "nbformat_minor": 2
}
