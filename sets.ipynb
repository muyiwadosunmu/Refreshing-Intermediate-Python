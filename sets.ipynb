{
 "cells": [
  {
   "cell_type": "markdown",
   "metadata": {},
   "source": [
    "## Sets -> Unordered, mutable, no duplicates"
   ]
  },
  {
   "cell_type": "code",
   "execution_count": 1,
   "metadata": {},
   "outputs": [
    {
     "name": "stdout",
     "output_type": "stream",
     "text": [
      "{1, 2, 3}\n",
      "{1, 2, 3, 4, 5, 6}\n"
     ]
    }
   ],
   "source": [
    "# myset = {1,2,3,1,2}\n",
    "# print(myset)\n",
    "\n",
    "# You can as well create a set with the set() function\n",
    "\n",
    "myset1 = set([1,2,3,4,5,6])\n",
    "print(myset1)\n"
   ]
  },
  {
   "cell_type": "markdown",
   "metadata": {},
   "source": [
    "## To add/remove items in a set"
   ]
  },
  {
   "cell_type": "code",
   "execution_count": 4,
   "metadata": {},
   "outputs": [
    {
     "name": "stdout",
     "output_type": "stream",
     "text": [
      "{3, 4, 5}\n"
     ]
    }
   ],
   "source": [
    "myset = set()\n",
    "myset.add(1)\n",
    "myset.add(2)\n",
    "myset.add(3)\n",
    "myset.add(4)\n",
    "myset.add(5)\n",
    "\n",
    "myset.remove(2)\n",
    "# we could also use the discard() method\n",
    "myset.discard(1)\n",
    "print(myset)\n",
    "\n",
    "# if we put in myset.discrd(4) nothing will happen and no error is returned\n",
    "\n",
    "# we can use myset.clear() which empties the message\n",
    "\n",
    "# We can use the pop() method"
   ]
  },
  {
   "cell_type": "markdown",
   "metadata": {},
   "source": [
    "## Iteration of sets"
   ]
  },
  {
   "cell_type": "code",
   "execution_count": 9,
   "metadata": {},
   "outputs": [
    {
     "name": "stdout",
     "output_type": "stream",
     "text": [
      "3\n",
      "4\n",
      "5\n",
      "yes\n"
     ]
    }
   ],
   "source": [
    "for i in myset:\n",
    "    print(i)\n",
    "\n",
    "if 3 in myset:\n",
    "    print(\"yes\")\n",
    "        "
   ]
  }
 ],
 "metadata": {
  "kernelspec": {
   "display_name": "Python 3.10.5 64-bit",
   "language": "python",
   "name": "python3"
  },
  "language_info": {
   "codemirror_mode": {
    "name": "ipython",
    "version": 3
   },
   "file_extension": ".py",
   "mimetype": "text/x-python",
   "name": "python",
   "nbconvert_exporter": "python",
   "pygments_lexer": "ipython3",
   "version": "3.10.5"
  },
  "orig_nbformat": 4,
  "vscode": {
   "interpreter": {
    "hash": "aee8b7b246df8f9039afb4144a1f6fd8d2ca17a180786b69acc140d282b71a49"
   }
  }
 },
 "nbformat": 4,
 "nbformat_minor": 2
}
