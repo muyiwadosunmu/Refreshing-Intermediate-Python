{
 "cells": [
  {
   "cell_type": "markdown",
   "id": "e8663e16-345d-4e90-bb38-48243163844d",
   "metadata": {},
   "source": [
    "## Working with lists and its methods"
   ]
  },
  {
   "cell_type": "code",
   "execution_count": 2,
   "id": "6bde817e-d5ed-464c-a36f-7bcb437e2c45",
   "metadata": {},
   "outputs": [
    {
     "name": "stdout",
     "output_type": "stream",
     "text": [
      "['banana', 'cherry', 'apple']\n"
     ]
    }
   ],
   "source": [
    "myList = [\"banana\", \"cherry\", \"apple\"]\n",
    "print(myList)"
   ]
  },
  {
   "cell_type": "code",
   "execution_count": 3,
   "id": "1d0caf0c-a676-4cf1-ba4f-c37862fbe6fa",
   "metadata": {},
   "outputs": [
    {
     "name": "stdout",
     "output_type": "stream",
     "text": [
      "3\n"
     ]
    }
   ],
   "source": [
    "print(len(myList))"
   ]
  },
  {
   "cell_type": "code",
   "execution_count": 11,
   "id": "a2c6ce16-8434-4786-b380-d8b100d3fef8",
   "metadata": {},
   "outputs": [
    {
     "name": "stdout",
     "output_type": "stream",
     "text": [
      "['banana', 'pear', 'pear', 'cherry', 'apple', 'lemon', 'lemon']\n"
     ]
    }
   ],
   "source": [
    "myList.append(\"lemon\")\n",
    "print(myList)"
   ]
  },
  {
   "cell_type": "code",
   "execution_count": 12,
   "id": "fa5b67ad-76c2-4845-9e2c-d3601c029d00",
   "metadata": {},
   "outputs": [
    {
     "name": "stdout",
     "output_type": "stream",
     "text": [
      "lemon\n"
     ]
    }
   ],
   "source": [
    "print(myList.pop())\n"
   ]
  },
  {
   "cell_type": "code",
   "execution_count": 13,
   "id": "f503a7a1-aca4-41b1-875d-254275c054c6",
   "metadata": {},
   "outputs": [
    {
     "name": "stdout",
     "output_type": "stream",
     "text": [
      "['banana', 'pear', 'pear', 'pear', 'cherry', 'apple', 'lemon']\n"
     ]
    }
   ],
   "source": [
    "myList.insert(1,\"pear\")\n",
    "print(myList)"
   ]
  },
  {
   "cell_type": "code",
   "execution_count": 16,
   "id": "fb828779-fdf3-4bb7-b065-84ed0ea0deab",
   "metadata": {},
   "outputs": [
    {
     "name": "stdout",
     "output_type": "stream",
     "text": [
      "['banana', 'pear', 'cherry', 'apple', 'lemon']\n"
     ]
    }
   ],
   "source": [
    "myList.remove(\"pear\")\n",
    "print(myList)"
   ]
  },
  {
   "cell_type": "code",
   "execution_count": 17,
   "id": "f414963a-8a17-4307-ae4d-af4c228e4362",
   "metadata": {
    "scrolled": true,
    "tags": []
   },
   "outputs": [
    {
     "name": "stdout",
     "output_type": "stream",
     "text": [
      "['apple', 'banana', 'cherry', 'lemon', 'pear']\n"
     ]
    }
   ],
   "source": [
    "myList.sort()\n",
    "print(myList)\n"
   ]
  },
  {
   "cell_type": "markdown",
   "id": "9ca1f1b5-83ed-4fec-9dc8-3764c7bb77f0",
   "metadata": {},
   "source": [
    "### Using in-built sorted method"
   ]
  },
  {
   "cell_type": "code",
   "execution_count": 18,
   "id": "0c5ef120-8793-49e6-a4d9-ba9878ec7c66",
   "metadata": {},
   "outputs": [
    {
     "name": "stdout",
     "output_type": "stream",
     "text": [
      "[15, 16, 19, 24, 63, 84]\n"
     ]
    }
   ],
   "source": [
    "numlist = [19,24,63,84,15,16]\n",
    "newNumList = sorted(numlist)\n",
    "print(newNumList)\n"
   ]
  },
  {
   "cell_type": "markdown",
   "id": "2124ce58-415f-4c5e-a170-763acac0d692",
   "metadata": {},
   "source": [
    "### Slicing a list, "
   ]
  },
  {
   "cell_type": "code",
   "execution_count": 24,
   "id": "5359fa93-48a0-4b22-8f2c-1212d3453f45",
   "metadata": {},
   "outputs": [
    {
     "name": "stdout",
     "output_type": "stream",
     "text": [
      "[2, 3, 4, 5]\n"
     ]
    }
   ],
   "source": [
    "randList = [1,2,3,4,5,6,7,8,9]\n",
    "a = randList[1:5]\n",
    "print(a)\n"
   ]
  },
  {
   "cell_type": "code",
   "execution_count": 25,
   "id": "216c3ff5-abcf-495a-b694-ab22f9c5c15c",
   "metadata": {},
   "outputs": [
    {
     "name": "stdout",
     "output_type": "stream",
     "text": [
      "[2, 3, 4, 5, 6, 7, 8, 9] [1, 3, 5, 7, 9]\n"
     ]
    }
   ],
   "source": [
    "a = randList[1::]\n",
    "b = randList[::2]\n",
    "print(a,b)\n",
    "    "
   ]
  },
  {
   "cell_type": "markdown",
   "id": "10d84e49-c722-4013-96b3-5c97b62790b6",
   "metadata": {},
   "source": [
    "## Copying using a list"
   ]
  },
  {
   "cell_type": "code",
   "execution_count": null,
   "id": "91fa1291-3957-484a-9001-a141f4e7d629",
   "metadata": {},
   "outputs": [],
   "source": []
  }
 ],
 "metadata": {
  "kernelspec": {
   "display_name": "Python 3 (ipykernel)",
   "language": "python",
   "name": "python3"
  },
  "language_info": {
   "codemirror_mode": {
    "name": "ipython",
    "version": 3
   },
   "file_extension": ".py",
   "mimetype": "text/x-python",
   "name": "python",
   "nbconvert_exporter": "python",
   "pygments_lexer": "ipython3",
   "version": "3.9.12"
  }
 },
 "nbformat": 4,
 "nbformat_minor": 5
}
